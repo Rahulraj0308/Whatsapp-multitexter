{
 "cells": [
  {
   "cell_type": "code",
   "execution_count": 61,
   "id": "2c5ed13d",
   "metadata": {},
   "outputs": [
    {
     "name": "stderr",
     "output_type": "stream",
     "text": [
      "C:\\Users\\91988\\AppData\\Local\\Temp\\ipykernel_7916\\4126590994.py:6: DeprecationWarning: executable_path has been deprecated, please pass in a Service object\n",
      "  driver=webdriver.Edge(os.getcwd()+\"\\credits.html\")\n"
     ]
    },
    {
     "data": {
      "text/plain": [
       "<selenium.webdriver.edge.webdriver.WebDriver (session=\"ecbeff35edf65e3b58bd1a494e4cefb5\")>"
      ]
     },
     "execution_count": 61,
     "metadata": {},
     "output_type": "execute_result"
    }
   ],
   "source": [
    "from selenium import webdriver\n",
    "from selenium.webdriver.common.by import By\n",
    "import pandas as pd\n",
    "import os\n",
    "from bs4 import BeautifulSoup\n",
    "import time\n",
    "import tkinter\n",
    "driver=webdriver.Edge(os.getcwd()+\"\\credits.html\")\n",
    "driver"
   ]
  },
  {
   "cell_type": "code",
   "execution_count": 62,
   "id": "66fde0f7",
   "metadata": {},
   "outputs": [],
   "source": [
    "driver.get(\"https://web.whatsapp.com/\")"
   ]
  },
  {
   "cell_type": "code",
   "execution_count": 63,
   "id": "19a26dfb",
   "metadata": {},
   "outputs": [
    {
     "name": "stdout",
     "output_type": "stream",
     "text": [
      "text sent\n"
     ]
    }
   ],
   "source": [
    "P_no=input(\"ENTER YOUR OWN PHONE NO: \")\n",
    "Text=input(\"ENTER THE TEXT: \")\n",
    "excel_path=input(\"ENTER THE EXCEL SHEET PATH: \")\n",
    "data=pd.read_excel(excel_path)\n",
    "Number=data[\"Contact No\"]\n",
    "for i in Numbers:    \n",
    "    driver.find_element(By.XPATH,\"//div[@class='_1EUay']/button\").click()\n",
    "    search=driver.find_element(By.XPATH,\"//div[@data-testid='chat-list-search']\")\n",
    "    search.send_keys(P_no)\n",
    "    ans=driver.find_elements(By.XPATH,\"//div[@class='lhggkp7q ln8gz9je rx9719la']\")\n",
    "    for j in ans:\n",
    "        j.click()\n",
    "        text=driver.find_element(By.XPATH,\"//div[@class='g0rxnol2 lexical-rich-text-input']\").click()\n",
    "        text=driver.find_element(By.XPATH,\"//p[@class='selectable-text copyable-text iq0m558w']\")\n",
    "        text.send_keys(i)\n",
    "        driver.find_element(By.XPATH,\"//div[@class='_2xy_p _3XKXx']/button\").click()\n",
    "        driver.find_element(By.XPATH,\"//a[@class='_11JPr selectable-text copyable-text']\").click()\n",
    "        driver.find_element(By.XPATH,\"//div[@class='iWqod _1MZM5 nqtxkp62 btzf6ewn']\").click()\n",
    "        text=driver.find_element(By.XPATH,\"//div[@class='g0rxnol2 lexical-rich-text-input']\").click()\n",
    "        text=driver.find_element(By.XPATH,\"//p[@class='selectable-text copyable-text iq0m558w']\")\n",
    "        text.send_keys(Text)\n",
    "        driver.find_element(By.XPATH,\"//div[@class='_2xy_p _3XKXx']/button\").click()\n",
    "    print(\"text sent\")"
   ]
  },
  {
   "cell_type": "code",
   "execution_count": 77,
   "id": "35649154",
   "metadata": {},
   "outputs": [],
   "source": [
    "import tkinter\n"
   ]
  },
  {
   "cell_type": "code",
   "execution_count": null,
   "id": "404c561d",
   "metadata": {},
   "outputs": [],
   "source": [
    "\n"
   ]
  },
  {
   "cell_type": "code",
   "execution_count": 71,
   "id": "85a352b9",
   "metadata": {},
   "outputs": [],
   "source": []
  },
  {
   "cell_type": "code",
   "execution_count": null,
   "id": "6227344c",
   "metadata": {},
   "outputs": [],
   "source": []
  }
 ],
 "metadata": {
  "kernelspec": {
   "display_name": "Python 3 (ipykernel)",
   "language": "python",
   "name": "python3"
  },
  "language_info": {
   "codemirror_mode": {
    "name": "ipython",
    "version": 3
   },
   "file_extension": ".py",
   "mimetype": "text/x-python",
   "name": "python",
   "nbconvert_exporter": "python",
   "pygments_lexer": "ipython3",
   "version": "3.10.4"
  }
 },
 "nbformat": 4,
 "nbformat_minor": 5
}
